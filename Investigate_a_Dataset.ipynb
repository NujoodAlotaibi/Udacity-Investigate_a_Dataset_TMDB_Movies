{
 "cells": [
  {
   "cell_type": "markdown",
   "metadata": {},
   "source": [
    "\n",
    "# Project: Investigate a Dataset (TMDb )\n",
    "\n",
    "## Table of Contents\n",
    "<ul>\n",
    "<li><a href=\"#intro\">Introduction</a></li>\n",
    "<li><a href=\"#wrangling\">Data Wrangling</a></li>\n",
    "<li><a href=\"#eda\">Exploratory Data Analysis</a></li>\n",
    "<li><a href=\"#conclusions\">Conclusions</a></li>\n",
    "</ul>"
   ]
  },
  {
   "cell_type": "markdown",
   "metadata": {},
   "source": [
    "<a id='intro'></a>\n",
    "## Introduction\n",
    "\n",
    "> This dataset comes from IMDB and contains information about 10,000 movies.In this project I analyze a movie dataset which is collected from 1960 to 2015 with the information of budget, revenue, genres, release date, release year, runtime, etc,using basic data analysis technique with Pandas, NumPy, Matplotlib.\n",
    "\n",
    "#### In this project, I’ll be answering the following questions:\n",
    "\n",
    ">•\tWhat month is considered best for releasing a films/shows?\n",
    "\n",
    ">•  Which year has the highest release of movies?\n",
    "\n",
    ">• Which length movies most liked by the audiences according to their popularity ?\n",
    "\n",
    ">•  Which genre Has the highest release of movies?\n",
    "\n"
   ]
  },
  {
   "cell_type": "code",
   "execution_count": 1,
   "metadata": {},
   "outputs": [],
   "source": [
    "import numpy as np\n",
    "import pandas as pd\n",
    "import matplotlib.pyplot as plt\n",
    "import seaborn as sns\n",
    "%matplotlib inline\n"
   ]
  },
  {
   "cell_type": "markdown",
   "metadata": {},
   "source": [
    "<a id='wrangling'></a>\n",
    "## Data Wrangling\n",
    "\n",
    ">After Observing the dataset and questions about this dataset for analysis, we will clean up the data and we will only keep the relevant data and delete the unused data.\n",
    "### General Properties"
   ]
  },
  {
   "cell_type": "code",
   "execution_count": 2,
   "metadata": {
    "scrolled": false
   },
   "outputs": [
    {
     "data": {
      "text/html": [
       "<div>\n",
       "<style scoped>\n",
       "    .dataframe tbody tr th:only-of-type {\n",
       "        vertical-align: middle;\n",
       "    }\n",
       "\n",
       "    .dataframe tbody tr th {\n",
       "        vertical-align: top;\n",
       "    }\n",
       "\n",
       "    .dataframe thead th {\n",
       "        text-align: right;\n",
       "    }\n",
       "</style>\n",
       "<table border=\"1\" class=\"dataframe\">\n",
       "  <thead>\n",
       "    <tr style=\"text-align: right;\">\n",
       "      <th></th>\n",
       "      <th>id</th>\n",
       "      <th>imdb_id</th>\n",
       "      <th>popularity</th>\n",
       "      <th>budget</th>\n",
       "      <th>revenue</th>\n",
       "      <th>original_title</th>\n",
       "      <th>cast</th>\n",
       "      <th>homepage</th>\n",
       "      <th>director</th>\n",
       "      <th>tagline</th>\n",
       "      <th>...</th>\n",
       "      <th>overview</th>\n",
       "      <th>runtime</th>\n",
       "      <th>genres</th>\n",
       "      <th>production_companies</th>\n",
       "      <th>release_date</th>\n",
       "      <th>vote_count</th>\n",
       "      <th>vote_average</th>\n",
       "      <th>release_year</th>\n",
       "      <th>budget_adj</th>\n",
       "      <th>revenue_adj</th>\n",
       "    </tr>\n",
       "  </thead>\n",
       "  <tbody>\n",
       "    <tr>\n",
       "      <th>0</th>\n",
       "      <td>135397</td>\n",
       "      <td>tt0369610</td>\n",
       "      <td>32.985763</td>\n",
       "      <td>150000000</td>\n",
       "      <td>1513528810</td>\n",
       "      <td>Jurassic World</td>\n",
       "      <td>Chris Pratt|Bryce Dallas Howard|Irrfan Khan|Vi...</td>\n",
       "      <td>http://www.jurassicworld.com/</td>\n",
       "      <td>Colin Trevorrow</td>\n",
       "      <td>The park is open.</td>\n",
       "      <td>...</td>\n",
       "      <td>Twenty-two years after the events of Jurassic ...</td>\n",
       "      <td>124</td>\n",
       "      <td>Action|Adventure|Science Fiction|Thriller</td>\n",
       "      <td>Universal Studios|Amblin Entertainment|Legenda...</td>\n",
       "      <td>06/09/2015</td>\n",
       "      <td>5562</td>\n",
       "      <td>6.5</td>\n",
       "      <td>2015</td>\n",
       "      <td>137999939.3</td>\n",
       "      <td>1.392446e+09</td>\n",
       "    </tr>\n",
       "    <tr>\n",
       "      <th>1</th>\n",
       "      <td>76341</td>\n",
       "      <td>tt1392190</td>\n",
       "      <td>28.419936</td>\n",
       "      <td>150000000</td>\n",
       "      <td>378436354</td>\n",
       "      <td>Mad Max: Fury Road</td>\n",
       "      <td>Tom Hardy|Charlize Theron|Hugh Keays-Byrne|Nic...</td>\n",
       "      <td>http://www.madmaxmovie.com/</td>\n",
       "      <td>George Miller</td>\n",
       "      <td>What a Lovely Day.</td>\n",
       "      <td>...</td>\n",
       "      <td>An apocalyptic story set in the furthest reach...</td>\n",
       "      <td>120</td>\n",
       "      <td>Action|Adventure|Science Fiction|Thriller</td>\n",
       "      <td>Village Roadshow Pictures|Kennedy Miller Produ...</td>\n",
       "      <td>5/13/15</td>\n",
       "      <td>6185</td>\n",
       "      <td>7.1</td>\n",
       "      <td>2015</td>\n",
       "      <td>137999939.3</td>\n",
       "      <td>3.481613e+08</td>\n",
       "    </tr>\n",
       "  </tbody>\n",
       "</table>\n",
       "<p>2 rows × 21 columns</p>\n",
       "</div>"
      ],
      "text/plain": [
       "       id    imdb_id  popularity     budget     revenue      original_title  \\\n",
       "0  135397  tt0369610   32.985763  150000000  1513528810      Jurassic World   \n",
       "1   76341  tt1392190   28.419936  150000000   378436354  Mad Max: Fury Road   \n",
       "\n",
       "                                                cast  \\\n",
       "0  Chris Pratt|Bryce Dallas Howard|Irrfan Khan|Vi...   \n",
       "1  Tom Hardy|Charlize Theron|Hugh Keays-Byrne|Nic...   \n",
       "\n",
       "                        homepage         director             tagline  ...  \\\n",
       "0  http://www.jurassicworld.com/  Colin Trevorrow   The park is open.  ...   \n",
       "1    http://www.madmaxmovie.com/    George Miller  What a Lovely Day.  ...   \n",
       "\n",
       "                                            overview runtime  \\\n",
       "0  Twenty-two years after the events of Jurassic ...     124   \n",
       "1  An apocalyptic story set in the furthest reach...     120   \n",
       "\n",
       "                                      genres  \\\n",
       "0  Action|Adventure|Science Fiction|Thriller   \n",
       "1  Action|Adventure|Science Fiction|Thriller   \n",
       "\n",
       "                                production_companies release_date vote_count  \\\n",
       "0  Universal Studios|Amblin Entertainment|Legenda...   06/09/2015       5562   \n",
       "1  Village Roadshow Pictures|Kennedy Miller Produ...      5/13/15       6185   \n",
       "\n",
       "   vote_average  release_year   budget_adj   revenue_adj  \n",
       "0           6.5          2015  137999939.3  1.392446e+09  \n",
       "1           7.1          2015  137999939.3  3.481613e+08  \n",
       "\n",
       "[2 rows x 21 columns]"
      ]
     },
     "execution_count": 2,
     "metadata": {},
     "output_type": "execute_result"
    }
   ],
   "source": [
    "# Read the CSV File Using Pandas read_csv function\n",
    "df= pd.read_csv('tmdb-movies.csv')\n",
    "df.head(2)\n"
   ]
  },
  {
   "cell_type": "code",
   "execution_count": 3,
   "metadata": {},
   "outputs": [
    {
     "data": {
      "text/plain": [
       "(10866, 21)"
      ]
     },
     "execution_count": 3,
     "metadata": {},
     "output_type": "execute_result"
    }
   ],
   "source": [
    "# this function show how many columns and rows \n",
    "df.shape"
   ]
  },
  {
   "cell_type": "code",
   "execution_count": 4,
   "metadata": {},
   "outputs": [
    {
     "data": {
      "text/html": [
       "<div>\n",
       "<style scoped>\n",
       "    .dataframe tbody tr th:only-of-type {\n",
       "        vertical-align: middle;\n",
       "    }\n",
       "\n",
       "    .dataframe tbody tr th {\n",
       "        vertical-align: top;\n",
       "    }\n",
       "\n",
       "    .dataframe thead th {\n",
       "        text-align: right;\n",
       "    }\n",
       "</style>\n",
       "<table border=\"1\" class=\"dataframe\">\n",
       "  <thead>\n",
       "    <tr style=\"text-align: right;\">\n",
       "      <th></th>\n",
       "      <th>id</th>\n",
       "      <th>popularity</th>\n",
       "      <th>budget</th>\n",
       "      <th>revenue</th>\n",
       "      <th>runtime</th>\n",
       "      <th>vote_count</th>\n",
       "      <th>vote_average</th>\n",
       "      <th>release_year</th>\n",
       "      <th>budget_adj</th>\n",
       "      <th>revenue_adj</th>\n",
       "    </tr>\n",
       "  </thead>\n",
       "  <tbody>\n",
       "    <tr>\n",
       "      <th>count</th>\n",
       "      <td>10866.000000</td>\n",
       "      <td>10866.000000</td>\n",
       "      <td>1.086600e+04</td>\n",
       "      <td>1.086600e+04</td>\n",
       "      <td>10866.000000</td>\n",
       "      <td>10866.000000</td>\n",
       "      <td>10866.000000</td>\n",
       "      <td>10866.000000</td>\n",
       "      <td>1.086600e+04</td>\n",
       "      <td>1.086600e+04</td>\n",
       "    </tr>\n",
       "    <tr>\n",
       "      <th>mean</th>\n",
       "      <td>66064.177434</td>\n",
       "      <td>0.646441</td>\n",
       "      <td>1.462570e+07</td>\n",
       "      <td>3.982332e+07</td>\n",
       "      <td>102.070863</td>\n",
       "      <td>217.389748</td>\n",
       "      <td>5.974922</td>\n",
       "      <td>2001.322658</td>\n",
       "      <td>1.755104e+07</td>\n",
       "      <td>5.136436e+07</td>\n",
       "    </tr>\n",
       "    <tr>\n",
       "      <th>std</th>\n",
       "      <td>92130.136561</td>\n",
       "      <td>1.000185</td>\n",
       "      <td>3.091321e+07</td>\n",
       "      <td>1.170035e+08</td>\n",
       "      <td>31.381405</td>\n",
       "      <td>575.619058</td>\n",
       "      <td>0.935142</td>\n",
       "      <td>12.812941</td>\n",
       "      <td>3.430616e+07</td>\n",
       "      <td>1.446325e+08</td>\n",
       "    </tr>\n",
       "    <tr>\n",
       "      <th>min</th>\n",
       "      <td>5.000000</td>\n",
       "      <td>0.000065</td>\n",
       "      <td>0.000000e+00</td>\n",
       "      <td>0.000000e+00</td>\n",
       "      <td>0.000000</td>\n",
       "      <td>10.000000</td>\n",
       "      <td>1.500000</td>\n",
       "      <td>1960.000000</td>\n",
       "      <td>0.000000e+00</td>\n",
       "      <td>0.000000e+00</td>\n",
       "    </tr>\n",
       "    <tr>\n",
       "      <th>25%</th>\n",
       "      <td>10596.250000</td>\n",
       "      <td>0.207583</td>\n",
       "      <td>0.000000e+00</td>\n",
       "      <td>0.000000e+00</td>\n",
       "      <td>90.000000</td>\n",
       "      <td>17.000000</td>\n",
       "      <td>5.400000</td>\n",
       "      <td>1995.000000</td>\n",
       "      <td>0.000000e+00</td>\n",
       "      <td>0.000000e+00</td>\n",
       "    </tr>\n",
       "    <tr>\n",
       "      <th>50%</th>\n",
       "      <td>20669.000000</td>\n",
       "      <td>0.383856</td>\n",
       "      <td>0.000000e+00</td>\n",
       "      <td>0.000000e+00</td>\n",
       "      <td>99.000000</td>\n",
       "      <td>38.000000</td>\n",
       "      <td>6.000000</td>\n",
       "      <td>2006.000000</td>\n",
       "      <td>0.000000e+00</td>\n",
       "      <td>0.000000e+00</td>\n",
       "    </tr>\n",
       "    <tr>\n",
       "      <th>75%</th>\n",
       "      <td>75610.000000</td>\n",
       "      <td>0.713817</td>\n",
       "      <td>1.500000e+07</td>\n",
       "      <td>2.400000e+07</td>\n",
       "      <td>111.000000</td>\n",
       "      <td>145.750000</td>\n",
       "      <td>6.600000</td>\n",
       "      <td>2011.000000</td>\n",
       "      <td>2.085325e+07</td>\n",
       "      <td>3.369710e+07</td>\n",
       "    </tr>\n",
       "    <tr>\n",
       "      <th>max</th>\n",
       "      <td>417859.000000</td>\n",
       "      <td>32.985763</td>\n",
       "      <td>4.250000e+08</td>\n",
       "      <td>2.781506e+09</td>\n",
       "      <td>900.000000</td>\n",
       "      <td>9767.000000</td>\n",
       "      <td>9.200000</td>\n",
       "      <td>2015.000000</td>\n",
       "      <td>4.250000e+08</td>\n",
       "      <td>2.827124e+09</td>\n",
       "    </tr>\n",
       "  </tbody>\n",
       "</table>\n",
       "</div>"
      ],
      "text/plain": [
       "                  id    popularity        budget       revenue       runtime  \\\n",
       "count   10866.000000  10866.000000  1.086600e+04  1.086600e+04  10866.000000   \n",
       "mean    66064.177434      0.646441  1.462570e+07  3.982332e+07    102.070863   \n",
       "std     92130.136561      1.000185  3.091321e+07  1.170035e+08     31.381405   \n",
       "min         5.000000      0.000065  0.000000e+00  0.000000e+00      0.000000   \n",
       "25%     10596.250000      0.207583  0.000000e+00  0.000000e+00     90.000000   \n",
       "50%     20669.000000      0.383856  0.000000e+00  0.000000e+00     99.000000   \n",
       "75%     75610.000000      0.713817  1.500000e+07  2.400000e+07    111.000000   \n",
       "max    417859.000000     32.985763  4.250000e+08  2.781506e+09    900.000000   \n",
       "\n",
       "         vote_count  vote_average  release_year    budget_adj   revenue_adj  \n",
       "count  10866.000000  10866.000000  10866.000000  1.086600e+04  1.086600e+04  \n",
       "mean     217.389748      5.974922   2001.322658  1.755104e+07  5.136436e+07  \n",
       "std      575.619058      0.935142     12.812941  3.430616e+07  1.446325e+08  \n",
       "min       10.000000      1.500000   1960.000000  0.000000e+00  0.000000e+00  \n",
       "25%       17.000000      5.400000   1995.000000  0.000000e+00  0.000000e+00  \n",
       "50%       38.000000      6.000000   2006.000000  0.000000e+00  0.000000e+00  \n",
       "75%      145.750000      6.600000   2011.000000  2.085325e+07  3.369710e+07  \n",
       "max     9767.000000      9.200000   2015.000000  4.250000e+08  2.827124e+09  "
      ]
     },
     "execution_count": 4,
     "metadata": {},
     "output_type": "execute_result"
    }
   ],
   "source": [
    "df.describe()"
   ]
  },
  {
   "cell_type": "code",
   "execution_count": 5,
   "metadata": {},
   "outputs": [
    {
     "name": "stdout",
     "output_type": "stream",
     "text": [
      "<class 'pandas.core.frame.DataFrame'>\n",
      "RangeIndex: 10866 entries, 0 to 10865\n",
      "Data columns (total 21 columns):\n",
      " #   Column                Non-Null Count  Dtype  \n",
      "---  ------                --------------  -----  \n",
      " 0   id                    10866 non-null  int64  \n",
      " 1   imdb_id               10856 non-null  object \n",
      " 2   popularity            10866 non-null  float64\n",
      " 3   budget                10866 non-null  int64  \n",
      " 4   revenue               10866 non-null  int64  \n",
      " 5   original_title        10866 non-null  object \n",
      " 6   cast                  10790 non-null  object \n",
      " 7   homepage              2936 non-null   object \n",
      " 8   director              10822 non-null  object \n",
      " 9   tagline               8042 non-null   object \n",
      " 10  keywords              9373 non-null   object \n",
      " 11  overview              10862 non-null  object \n",
      " 12  runtime               10866 non-null  int64  \n",
      " 13  genres                10843 non-null  object \n",
      " 14  production_companies  9836 non-null   object \n",
      " 15  release_date          10866 non-null  object \n",
      " 16  vote_count            10866 non-null  int64  \n",
      " 17  vote_average          10866 non-null  float64\n",
      " 18  release_year          10866 non-null  int64  \n",
      " 19  budget_adj            10866 non-null  float64\n",
      " 20  revenue_adj           10866 non-null  float64\n",
      "dtypes: float64(4), int64(6), object(11)\n",
      "memory usage: 1.7+ MB\n"
     ]
    }
   ],
   "source": [
    "df.info()"
   ]
  },
  {
   "cell_type": "markdown",
   "metadata": {},
   "source": [
    "\n",
    "### Data Cleaning ( Drop Unecessary Columns)\n",
    "\n",
    ">Remove columns that are not useful for answering questions (imdb_id, Budget, Revenue,Homepage, Tagline, Keywords, cast,production_companies and Overview)"
   ]
  },
  {
   "cell_type": "code",
   "execution_count": 6,
   "metadata": {},
   "outputs": [
    {
     "data": {
      "text/plain": [
       "Index(['id', 'popularity', 'original_title', 'runtime', 'genres',\n",
       "       'release_date', 'vote_count', 'vote_average', 'release_year',\n",
       "       'budget_adj', 'revenue_adj'],\n",
       "      dtype='object')"
      ]
     },
     "execution_count": 6,
     "metadata": {},
     "output_type": "execute_result"
    }
   ],
   "source": [
    "# list of columns that are to be deleted\n",
    "col =['imdb_id','budget', 'revenue', 'cast', 'homepage', 'director', 'tagline', 'keywords', 'overview', 'production_companies']\n",
    "\n",
    "# deleting the columns\n",
    "df.drop(col, axis = 1, inplace = True)\n",
    "\n",
    "#checking to see if the columns have been deleted\n",
    "df.columns"
   ]
  },
  {
   "cell_type": "code",
   "execution_count": 7,
   "metadata": {
    "scrolled": true
   },
   "outputs": [
    {
     "data": {
      "text/html": [
       "<div>\n",
       "<style scoped>\n",
       "    .dataframe tbody tr th:only-of-type {\n",
       "        vertical-align: middle;\n",
       "    }\n",
       "\n",
       "    .dataframe tbody tr th {\n",
       "        vertical-align: top;\n",
       "    }\n",
       "\n",
       "    .dataframe thead th {\n",
       "        text-align: right;\n",
       "    }\n",
       "</style>\n",
       "<table border=\"1\" class=\"dataframe\">\n",
       "  <thead>\n",
       "    <tr style=\"text-align: right;\">\n",
       "      <th></th>\n",
       "      <th>id</th>\n",
       "      <th>popularity</th>\n",
       "      <th>runtime</th>\n",
       "      <th>vote_count</th>\n",
       "      <th>vote_average</th>\n",
       "      <th>release_year</th>\n",
       "      <th>budget_adj</th>\n",
       "      <th>revenue_adj</th>\n",
       "    </tr>\n",
       "  </thead>\n",
       "  <tbody>\n",
       "    <tr>\n",
       "      <th>count</th>\n",
       "      <td>10866.000000</td>\n",
       "      <td>10866.000000</td>\n",
       "      <td>10866.000000</td>\n",
       "      <td>10866.000000</td>\n",
       "      <td>10866.000000</td>\n",
       "      <td>10866.000000</td>\n",
       "      <td>1.086600e+04</td>\n",
       "      <td>1.086600e+04</td>\n",
       "    </tr>\n",
       "    <tr>\n",
       "      <th>mean</th>\n",
       "      <td>66064.177434</td>\n",
       "      <td>0.646441</td>\n",
       "      <td>102.070863</td>\n",
       "      <td>217.389748</td>\n",
       "      <td>5.974922</td>\n",
       "      <td>2001.322658</td>\n",
       "      <td>1.755104e+07</td>\n",
       "      <td>5.136436e+07</td>\n",
       "    </tr>\n",
       "    <tr>\n",
       "      <th>std</th>\n",
       "      <td>92130.136561</td>\n",
       "      <td>1.000185</td>\n",
       "      <td>31.381405</td>\n",
       "      <td>575.619058</td>\n",
       "      <td>0.935142</td>\n",
       "      <td>12.812941</td>\n",
       "      <td>3.430616e+07</td>\n",
       "      <td>1.446325e+08</td>\n",
       "    </tr>\n",
       "    <tr>\n",
       "      <th>min</th>\n",
       "      <td>5.000000</td>\n",
       "      <td>0.000065</td>\n",
       "      <td>0.000000</td>\n",
       "      <td>10.000000</td>\n",
       "      <td>1.500000</td>\n",
       "      <td>1960.000000</td>\n",
       "      <td>0.000000e+00</td>\n",
       "      <td>0.000000e+00</td>\n",
       "    </tr>\n",
       "    <tr>\n",
       "      <th>25%</th>\n",
       "      <td>10596.250000</td>\n",
       "      <td>0.207583</td>\n",
       "      <td>90.000000</td>\n",
       "      <td>17.000000</td>\n",
       "      <td>5.400000</td>\n",
       "      <td>1995.000000</td>\n",
       "      <td>0.000000e+00</td>\n",
       "      <td>0.000000e+00</td>\n",
       "    </tr>\n",
       "    <tr>\n",
       "      <th>50%</th>\n",
       "      <td>20669.000000</td>\n",
       "      <td>0.383856</td>\n",
       "      <td>99.000000</td>\n",
       "      <td>38.000000</td>\n",
       "      <td>6.000000</td>\n",
       "      <td>2006.000000</td>\n",
       "      <td>0.000000e+00</td>\n",
       "      <td>0.000000e+00</td>\n",
       "    </tr>\n",
       "    <tr>\n",
       "      <th>75%</th>\n",
       "      <td>75610.000000</td>\n",
       "      <td>0.713817</td>\n",
       "      <td>111.000000</td>\n",
       "      <td>145.750000</td>\n",
       "      <td>6.600000</td>\n",
       "      <td>2011.000000</td>\n",
       "      <td>2.085325e+07</td>\n",
       "      <td>3.369710e+07</td>\n",
       "    </tr>\n",
       "    <tr>\n",
       "      <th>max</th>\n",
       "      <td>417859.000000</td>\n",
       "      <td>32.985763</td>\n",
       "      <td>900.000000</td>\n",
       "      <td>9767.000000</td>\n",
       "      <td>9.200000</td>\n",
       "      <td>2015.000000</td>\n",
       "      <td>4.250000e+08</td>\n",
       "      <td>2.827124e+09</td>\n",
       "    </tr>\n",
       "  </tbody>\n",
       "</table>\n",
       "</div>"
      ],
      "text/plain": [
       "                  id    popularity       runtime    vote_count  vote_average  \\\n",
       "count   10866.000000  10866.000000  10866.000000  10866.000000  10866.000000   \n",
       "mean    66064.177434      0.646441    102.070863    217.389748      5.974922   \n",
       "std     92130.136561      1.000185     31.381405    575.619058      0.935142   \n",
       "min         5.000000      0.000065      0.000000     10.000000      1.500000   \n",
       "25%     10596.250000      0.207583     90.000000     17.000000      5.400000   \n",
       "50%     20669.000000      0.383856     99.000000     38.000000      6.000000   \n",
       "75%     75610.000000      0.713817    111.000000    145.750000      6.600000   \n",
       "max    417859.000000     32.985763    900.000000   9767.000000      9.200000   \n",
       "\n",
       "       release_year    budget_adj   revenue_adj  \n",
       "count  10866.000000  1.086600e+04  1.086600e+04  \n",
       "mean    2001.322658  1.755104e+07  5.136436e+07  \n",
       "std       12.812941  3.430616e+07  1.446325e+08  \n",
       "min     1960.000000  0.000000e+00  0.000000e+00  \n",
       "25%     1995.000000  0.000000e+00  0.000000e+00  \n",
       "50%     2006.000000  0.000000e+00  0.000000e+00  \n",
       "75%     2011.000000  2.085325e+07  3.369710e+07  \n",
       "max     2015.000000  4.250000e+08  2.827124e+09  "
      ]
     },
     "execution_count": 7,
     "metadata": {},
     "output_type": "execute_result"
    }
   ],
   "source": [
    "df.describe()"
   ]
  },
  {
   "cell_type": "markdown",
   "metadata": {},
   "source": [
    "### Data Cleaning ( Filling 0 Values)\n",
    "\n",
    ">According to the data above, budget_adj, revenue_adj and runtime all contain\n",
    "values of 0. Fill these in with the average of each column."
   ]
  },
  {
   "cell_type": "code",
   "execution_count": 8,
   "metadata": {},
   "outputs": [
    {
     "name": "stdout",
     "output_type": "stream",
     "text": [
      "17551039.82290045\n"
     ]
    }
   ],
   "source": [
    "# Get average of budget_adj\n",
    "print(df['budget_adj'].mean())"
   ]
  },
  {
   "cell_type": "code",
   "execution_count": 9,
   "metadata": {},
   "outputs": [],
   "source": [
    "# Replace 0 values with mean.\n",
    "df['budget_adj'] = df['budget_adj'].replace(0, 17551039.82290045)"
   ]
  },
  {
   "cell_type": "code",
   "execution_count": 10,
   "metadata": {},
   "outputs": [
    {
     "name": "stdout",
     "output_type": "stream",
     "text": [
      "51364363.253164716\n"
     ]
    }
   ],
   "source": [
    "# Get average of revenue_adj\n",
    "print(df['revenue_adj'].mean())"
   ]
  },
  {
   "cell_type": "code",
   "execution_count": 11,
   "metadata": {},
   "outputs": [],
   "source": [
    "# Replace 0 values with mean\n",
    "df['revenue_adj'] = df['revenue_adj'].replace(0, 51364363.253164716)"
   ]
  },
  {
   "cell_type": "code",
   "execution_count": 12,
   "metadata": {},
   "outputs": [
    {
     "name": "stdout",
     "output_type": "stream",
     "text": [
      "102.07086324314375\n"
     ]
    }
   ],
   "source": [
    "# Get average of runtime\n",
    "print(df['runtime'].mean())"
   ]
  },
  {
   "cell_type": "code",
   "execution_count": 13,
   "metadata": {},
   "outputs": [
    {
     "data": {
      "text/html": [
       "<div>\n",
       "<style scoped>\n",
       "    .dataframe tbody tr th:only-of-type {\n",
       "        vertical-align: middle;\n",
       "    }\n",
       "\n",
       "    .dataframe tbody tr th {\n",
       "        vertical-align: top;\n",
       "    }\n",
       "\n",
       "    .dataframe thead th {\n",
       "        text-align: right;\n",
       "    }\n",
       "</style>\n",
       "<table border=\"1\" class=\"dataframe\">\n",
       "  <thead>\n",
       "    <tr style=\"text-align: right;\">\n",
       "      <th></th>\n",
       "      <th>id</th>\n",
       "      <th>popularity</th>\n",
       "      <th>runtime</th>\n",
       "      <th>vote_count</th>\n",
       "      <th>vote_average</th>\n",
       "      <th>release_year</th>\n",
       "      <th>budget_adj</th>\n",
       "      <th>revenue_adj</th>\n",
       "    </tr>\n",
       "  </thead>\n",
       "  <tbody>\n",
       "    <tr>\n",
       "      <th>count</th>\n",
       "      <td>10866.000000</td>\n",
       "      <td>10866.000000</td>\n",
       "      <td>10866.000000</td>\n",
       "      <td>10866.000000</td>\n",
       "      <td>10866.000000</td>\n",
       "      <td>10866.000000</td>\n",
       "      <td>1.086600e+04</td>\n",
       "      <td>1.086600e+04</td>\n",
       "    </tr>\n",
       "    <tr>\n",
       "      <th>mean</th>\n",
       "      <td>66064.177434</td>\n",
       "      <td>0.646441</td>\n",
       "      <td>102.362065</td>\n",
       "      <td>217.389748</td>\n",
       "      <td>5.974922</td>\n",
       "      <td>2001.322658</td>\n",
       "      <td>2.675136e+07</td>\n",
       "      <td>7.980243e+07</td>\n",
       "    </tr>\n",
       "    <tr>\n",
       "      <th>std</th>\n",
       "      <td>92130.136561</td>\n",
       "      <td>1.000185</td>\n",
       "      <td>30.902781</td>\n",
       "      <td>575.619058</td>\n",
       "      <td>0.935142</td>\n",
       "      <td>12.812941</td>\n",
       "      <td>3.050850e+07</td>\n",
       "      <td>1.365610e+08</td>\n",
       "    </tr>\n",
       "    <tr>\n",
       "      <th>min</th>\n",
       "      <td>5.000000</td>\n",
       "      <td>0.000065</td>\n",
       "      <td>2.000000</td>\n",
       "      <td>10.000000</td>\n",
       "      <td>1.500000</td>\n",
       "      <td>1960.000000</td>\n",
       "      <td>9.210911e-01</td>\n",
       "      <td>2.370705e+00</td>\n",
       "    </tr>\n",
       "    <tr>\n",
       "      <th>25%</th>\n",
       "      <td>10596.250000</td>\n",
       "      <td>0.207583</td>\n",
       "      <td>90.000000</td>\n",
       "      <td>17.000000</td>\n",
       "      <td>5.400000</td>\n",
       "      <td>1995.000000</td>\n",
       "      <td>1.755104e+07</td>\n",
       "      <td>5.136436e+07</td>\n",
       "    </tr>\n",
       "    <tr>\n",
       "      <th>50%</th>\n",
       "      <td>20669.000000</td>\n",
       "      <td>0.383856</td>\n",
       "      <td>99.000000</td>\n",
       "      <td>38.000000</td>\n",
       "      <td>6.000000</td>\n",
       "      <td>2006.000000</td>\n",
       "      <td>1.755104e+07</td>\n",
       "      <td>5.136436e+07</td>\n",
       "    </tr>\n",
       "    <tr>\n",
       "      <th>75%</th>\n",
       "      <td>75610.000000</td>\n",
       "      <td>0.713817</td>\n",
       "      <td>111.000000</td>\n",
       "      <td>145.750000</td>\n",
       "      <td>6.600000</td>\n",
       "      <td>2011.000000</td>\n",
       "      <td>2.085325e+07</td>\n",
       "      <td>5.136436e+07</td>\n",
       "    </tr>\n",
       "    <tr>\n",
       "      <th>max</th>\n",
       "      <td>417859.000000</td>\n",
       "      <td>32.985763</td>\n",
       "      <td>900.000000</td>\n",
       "      <td>9767.000000</td>\n",
       "      <td>9.200000</td>\n",
       "      <td>2015.000000</td>\n",
       "      <td>4.250000e+08</td>\n",
       "      <td>2.827124e+09</td>\n",
       "    </tr>\n",
       "  </tbody>\n",
       "</table>\n",
       "</div>"
      ],
      "text/plain": [
       "                  id    popularity       runtime    vote_count  vote_average  \\\n",
       "count   10866.000000  10866.000000  10866.000000  10866.000000  10866.000000   \n",
       "mean    66064.177434      0.646441    102.362065    217.389748      5.974922   \n",
       "std     92130.136561      1.000185     30.902781    575.619058      0.935142   \n",
       "min         5.000000      0.000065      2.000000     10.000000      1.500000   \n",
       "25%     10596.250000      0.207583     90.000000     17.000000      5.400000   \n",
       "50%     20669.000000      0.383856     99.000000     38.000000      6.000000   \n",
       "75%     75610.000000      0.713817    111.000000    145.750000      6.600000   \n",
       "max    417859.000000     32.985763    900.000000   9767.000000      9.200000   \n",
       "\n",
       "       release_year    budget_adj   revenue_adj  \n",
       "count  10866.000000  1.086600e+04  1.086600e+04  \n",
       "mean    2001.322658  2.675136e+07  7.980243e+07  \n",
       "std       12.812941  3.050850e+07  1.365610e+08  \n",
       "min     1960.000000  9.210911e-01  2.370705e+00  \n",
       "25%     1995.000000  1.755104e+07  5.136436e+07  \n",
       "50%     2006.000000  1.755104e+07  5.136436e+07  \n",
       "75%     2011.000000  2.085325e+07  5.136436e+07  \n",
       "max     2015.000000  4.250000e+08  2.827124e+09  "
      ]
     },
     "execution_count": 13,
     "metadata": {},
     "output_type": "execute_result"
    }
   ],
   "source": [
    "# Replace 0 values with mean\n",
    "df['runtime'] = df['runtime'].replace(0, 102.07086324314375)\n",
    "df.describe()"
   ]
  },
  {
   "cell_type": "code",
   "execution_count": 14,
   "metadata": {},
   "outputs": [
    {
     "name": "stdout",
     "output_type": "stream",
     "text": [
      "<class 'pandas.core.frame.DataFrame'>\n",
      "RangeIndex: 10866 entries, 0 to 10865\n",
      "Data columns (total 11 columns):\n",
      " #   Column          Non-Null Count  Dtype  \n",
      "---  ------          --------------  -----  \n",
      " 0   id              10866 non-null  int64  \n",
      " 1   popularity      10866 non-null  float64\n",
      " 2   original_title  10866 non-null  object \n",
      " 3   runtime         10866 non-null  float64\n",
      " 4   genres          10843 non-null  object \n",
      " 5   release_date    10866 non-null  object \n",
      " 6   vote_count      10866 non-null  int64  \n",
      " 7   vote_average    10866 non-null  float64\n",
      " 8   release_year    10866 non-null  int64  \n",
      " 9   budget_adj      10866 non-null  float64\n",
      " 10  revenue_adj     10866 non-null  float64\n",
      "dtypes: float64(5), int64(3), object(3)\n",
      "memory usage: 933.9+ KB\n"
     ]
    }
   ],
   "source": [
    "df.info()"
   ]
  },
  {
   "cell_type": "code",
   "execution_count": 15,
   "metadata": {},
   "outputs": [
    {
     "data": {
      "text/plain": [
       "id                 0\n",
       "popularity         0\n",
       "original_title     0\n",
       "runtime            0\n",
       "genres            23\n",
       "release_date       0\n",
       "vote_count         0\n",
       "vote_average       0\n",
       "release_year       0\n",
       "budget_adj         0\n",
       "revenue_adj        0\n",
       "dtype: int64"
      ]
     },
     "execution_count": 15,
     "metadata": {},
     "output_type": "execute_result"
    }
   ],
   "source": [
    "#count total rows in each column which contain null values\n",
    "df.isna().sum()"
   ]
  },
  {
   "cell_type": "code",
   "execution_count": 16,
   "metadata": {},
   "outputs": [
    {
     "data": {
      "text/html": [
       "<div>\n",
       "<style scoped>\n",
       "    .dataframe tbody tr th:only-of-type {\n",
       "        vertical-align: middle;\n",
       "    }\n",
       "\n",
       "    .dataframe tbody tr th {\n",
       "        vertical-align: top;\n",
       "    }\n",
       "\n",
       "    .dataframe thead th {\n",
       "        text-align: right;\n",
       "    }\n",
       "</style>\n",
       "<table border=\"1\" class=\"dataframe\">\n",
       "  <thead>\n",
       "    <tr style=\"text-align: right;\">\n",
       "      <th></th>\n",
       "      <th>id</th>\n",
       "      <th>popularity</th>\n",
       "      <th>original_title</th>\n",
       "      <th>runtime</th>\n",
       "      <th>genres</th>\n",
       "      <th>release_date</th>\n",
       "      <th>vote_count</th>\n",
       "      <th>vote_average</th>\n",
       "      <th>release_year</th>\n",
       "      <th>budget_adj</th>\n",
       "      <th>revenue_adj</th>\n",
       "    </tr>\n",
       "  </thead>\n",
       "  <tbody>\n",
       "    <tr>\n",
       "      <th>424</th>\n",
       "      <td>363869</td>\n",
       "      <td>0.244648</td>\n",
       "      <td>Belli di papÃ</td>\n",
       "      <td>100.000000</td>\n",
       "      <td>NaN</td>\n",
       "      <td>10/29/15</td>\n",
       "      <td>21</td>\n",
       "      <td>6.1</td>\n",
       "      <td>2015</td>\n",
       "      <td>1.755104e+07</td>\n",
       "      <td>5.136436e+07</td>\n",
       "    </tr>\n",
       "    <tr>\n",
       "      <th>620</th>\n",
       "      <td>361043</td>\n",
       "      <td>0.129696</td>\n",
       "      <td>All Hallows' Eve 2</td>\n",
       "      <td>90.000000</td>\n",
       "      <td>NaN</td>\n",
       "      <td>10/06/2015</td>\n",
       "      <td>13</td>\n",
       "      <td>5.0</td>\n",
       "      <td>2015</td>\n",
       "      <td>1.755104e+07</td>\n",
       "      <td>5.136436e+07</td>\n",
       "    </tr>\n",
       "    <tr>\n",
       "      <th>997</th>\n",
       "      <td>287663</td>\n",
       "      <td>0.330431</td>\n",
       "      <td>Star Wars Rebels: Spark of Rebellion</td>\n",
       "      <td>44.000000</td>\n",
       "      <td>NaN</td>\n",
       "      <td>10/03/2014</td>\n",
       "      <td>13</td>\n",
       "      <td>6.8</td>\n",
       "      <td>2014</td>\n",
       "      <td>1.755104e+07</td>\n",
       "      <td>5.136436e+07</td>\n",
       "    </tr>\n",
       "    <tr>\n",
       "      <th>1712</th>\n",
       "      <td>21634</td>\n",
       "      <td>0.302095</td>\n",
       "      <td>Prayers for Bobby</td>\n",
       "      <td>88.000000</td>\n",
       "      <td>NaN</td>\n",
       "      <td>2/27/09</td>\n",
       "      <td>57</td>\n",
       "      <td>7.4</td>\n",
       "      <td>2009</td>\n",
       "      <td>1.755104e+07</td>\n",
       "      <td>5.136436e+07</td>\n",
       "    </tr>\n",
       "    <tr>\n",
       "      <th>1897</th>\n",
       "      <td>40534</td>\n",
       "      <td>0.020701</td>\n",
       "      <td>Jonas Brothers: The Concert Experience</td>\n",
       "      <td>76.000000</td>\n",
       "      <td>NaN</td>\n",
       "      <td>2/27/09</td>\n",
       "      <td>11</td>\n",
       "      <td>7.0</td>\n",
       "      <td>2009</td>\n",
       "      <td>1.755104e+07</td>\n",
       "      <td>5.136436e+07</td>\n",
       "    </tr>\n",
       "    <tr>\n",
       "      <th>2370</th>\n",
       "      <td>127717</td>\n",
       "      <td>0.081892</td>\n",
       "      <td>Freshman Father</td>\n",
       "      <td>102.070863</td>\n",
       "      <td>NaN</td>\n",
       "      <td>06/05/2010</td>\n",
       "      <td>12</td>\n",
       "      <td>5.8</td>\n",
       "      <td>2010</td>\n",
       "      <td>1.755104e+07</td>\n",
       "      <td>5.136436e+07</td>\n",
       "    </tr>\n",
       "    <tr>\n",
       "      <th>2376</th>\n",
       "      <td>315620</td>\n",
       "      <td>0.068411</td>\n",
       "      <td>Doctor Who: A Christmas Carol</td>\n",
       "      <td>62.000000</td>\n",
       "      <td>NaN</td>\n",
       "      <td>12/25/10</td>\n",
       "      <td>11</td>\n",
       "      <td>7.7</td>\n",
       "      <td>2010</td>\n",
       "      <td>1.755104e+07</td>\n",
       "      <td>5.136436e+07</td>\n",
       "    </tr>\n",
       "    <tr>\n",
       "      <th>2853</th>\n",
       "      <td>57892</td>\n",
       "      <td>0.130018</td>\n",
       "      <td>Vizontele</td>\n",
       "      <td>110.000000</td>\n",
       "      <td>NaN</td>\n",
       "      <td>02/02/2001</td>\n",
       "      <td>12</td>\n",
       "      <td>7.2</td>\n",
       "      <td>2001</td>\n",
       "      <td>1.755104e+07</td>\n",
       "      <td>5.136436e+07</td>\n",
       "    </tr>\n",
       "    <tr>\n",
       "      <th>3279</th>\n",
       "      <td>54330</td>\n",
       "      <td>0.145331</td>\n",
       "      <td>ì•„ê¸°ì™€ ë‚˜</td>\n",
       "      <td>96.000000</td>\n",
       "      <td>NaN</td>\n",
       "      <td>8/13/08</td>\n",
       "      <td>11</td>\n",
       "      <td>6.1</td>\n",
       "      <td>2008</td>\n",
       "      <td>1.755104e+07</td>\n",
       "      <td>5.136436e+07</td>\n",
       "    </tr>\n",
       "    <tr>\n",
       "      <th>4547</th>\n",
       "      <td>123024</td>\n",
       "      <td>0.520520</td>\n",
       "      <td>London 2012 Olympic Opening Ceremony: Isles of...</td>\n",
       "      <td>220.000000</td>\n",
       "      <td>NaN</td>\n",
       "      <td>7/27/12</td>\n",
       "      <td>12</td>\n",
       "      <td>8.3</td>\n",
       "      <td>2012</td>\n",
       "      <td>1.755104e+07</td>\n",
       "      <td>5.136436e+07</td>\n",
       "    </tr>\n",
       "    <tr>\n",
       "      <th>4732</th>\n",
       "      <td>139463</td>\n",
       "      <td>0.235911</td>\n",
       "      <td>The Scapegoat</td>\n",
       "      <td>100.000000</td>\n",
       "      <td>NaN</td>\n",
       "      <td>09/09/2012</td>\n",
       "      <td>12</td>\n",
       "      <td>6.2</td>\n",
       "      <td>2012</td>\n",
       "      <td>1.755104e+07</td>\n",
       "      <td>5.136436e+07</td>\n",
       "    </tr>\n",
       "    <tr>\n",
       "      <th>4797</th>\n",
       "      <td>369145</td>\n",
       "      <td>0.167501</td>\n",
       "      <td>Doctor Who: The Snowmen</td>\n",
       "      <td>60.000000</td>\n",
       "      <td>NaN</td>\n",
       "      <td>12/25/12</td>\n",
       "      <td>10</td>\n",
       "      <td>7.8</td>\n",
       "      <td>2012</td>\n",
       "      <td>1.755104e+07</td>\n",
       "      <td>5.136436e+07</td>\n",
       "    </tr>\n",
       "    <tr>\n",
       "      <th>4890</th>\n",
       "      <td>126909</td>\n",
       "      <td>0.083202</td>\n",
       "      <td>Cousin Ben Troop Screening</td>\n",
       "      <td>2.000000</td>\n",
       "      <td>NaN</td>\n",
       "      <td>01/01/2012</td>\n",
       "      <td>14</td>\n",
       "      <td>7.0</td>\n",
       "      <td>2012</td>\n",
       "      <td>1.755104e+07</td>\n",
       "      <td>5.136436e+07</td>\n",
       "    </tr>\n",
       "    <tr>\n",
       "      <th>5830</th>\n",
       "      <td>282848</td>\n",
       "      <td>0.248944</td>\n",
       "      <td>Doctor Who: The Time of the Doctor</td>\n",
       "      <td>60.000000</td>\n",
       "      <td>NaN</td>\n",
       "      <td>12/25/13</td>\n",
       "      <td>26</td>\n",
       "      <td>8.5</td>\n",
       "      <td>2013</td>\n",
       "      <td>1.755104e+07</td>\n",
       "      <td>5.136436e+07</td>\n",
       "    </tr>\n",
       "    <tr>\n",
       "      <th>5934</th>\n",
       "      <td>200204</td>\n",
       "      <td>0.067433</td>\n",
       "      <td>Prada: Candy</td>\n",
       "      <td>3.000000</td>\n",
       "      <td>NaN</td>\n",
       "      <td>3/25/13</td>\n",
       "      <td>27</td>\n",
       "      <td>6.9</td>\n",
       "      <td>2013</td>\n",
       "      <td>1.755104e+07</td>\n",
       "      <td>5.136436e+07</td>\n",
       "    </tr>\n",
       "    <tr>\n",
       "      <th>6043</th>\n",
       "      <td>190940</td>\n",
       "      <td>0.039080</td>\n",
       "      <td>Bombay Talkies</td>\n",
       "      <td>127.000000</td>\n",
       "      <td>NaN</td>\n",
       "      <td>05/03/2013</td>\n",
       "      <td>12</td>\n",
       "      <td>5.9</td>\n",
       "      <td>2013</td>\n",
       "      <td>1.755104e+07</td>\n",
       "      <td>5.136436e+07</td>\n",
       "    </tr>\n",
       "    <tr>\n",
       "      <th>6530</th>\n",
       "      <td>168891</td>\n",
       "      <td>0.092724</td>\n",
       "      <td>Saw Rebirth</td>\n",
       "      <td>6.000000</td>\n",
       "      <td>NaN</td>\n",
       "      <td>10/24/05</td>\n",
       "      <td>24</td>\n",
       "      <td>5.9</td>\n",
       "      <td>2005</td>\n",
       "      <td>1.755104e+07</td>\n",
       "      <td>5.136436e+07</td>\n",
       "    </tr>\n",
       "    <tr>\n",
       "      <th>8234</th>\n",
       "      <td>56804</td>\n",
       "      <td>0.028874</td>\n",
       "      <td>Viaggi di nozze</td>\n",
       "      <td>103.000000</td>\n",
       "      <td>NaN</td>\n",
       "      <td>12/15/95</td>\n",
       "      <td>44</td>\n",
       "      <td>6.7</td>\n",
       "      <td>1995</td>\n",
       "      <td>1.755104e+07</td>\n",
       "      <td>5.136436e+07</td>\n",
       "    </tr>\n",
       "    <tr>\n",
       "      <th>8614</th>\n",
       "      <td>65595</td>\n",
       "      <td>0.273934</td>\n",
       "      <td>T2 3-D: Battle Across Time</td>\n",
       "      <td>12.000000</td>\n",
       "      <td>NaN</td>\n",
       "      <td>01/01/1996</td>\n",
       "      <td>14</td>\n",
       "      <td>6.7</td>\n",
       "      <td>1996</td>\n",
       "      <td>1.755104e+07</td>\n",
       "      <td>5.136436e+07</td>\n",
       "    </tr>\n",
       "    <tr>\n",
       "      <th>8878</th>\n",
       "      <td>92208</td>\n",
       "      <td>0.038045</td>\n",
       "      <td>Mom's Got a Date With a Vampire</td>\n",
       "      <td>85.000000</td>\n",
       "      <td>NaN</td>\n",
       "      <td>10/13/00</td>\n",
       "      <td>16</td>\n",
       "      <td>5.4</td>\n",
       "      <td>2000</td>\n",
       "      <td>1.755104e+07</td>\n",
       "      <td>5.136436e+07</td>\n",
       "    </tr>\n",
       "    <tr>\n",
       "      <th>9307</th>\n",
       "      <td>141859</td>\n",
       "      <td>0.094652</td>\n",
       "      <td>Goldeneye</td>\n",
       "      <td>105.000000</td>\n",
       "      <td>NaN</td>\n",
       "      <td>8/26/89</td>\n",
       "      <td>10</td>\n",
       "      <td>5.3</td>\n",
       "      <td>1989</td>\n",
       "      <td>1.755104e+07</td>\n",
       "      <td>5.136436e+07</td>\n",
       "    </tr>\n",
       "    <tr>\n",
       "      <th>9799</th>\n",
       "      <td>48847</td>\n",
       "      <td>0.175008</td>\n",
       "      <td>The Amputee</td>\n",
       "      <td>5.000000</td>\n",
       "      <td>NaN</td>\n",
       "      <td>01/01/1974</td>\n",
       "      <td>11</td>\n",
       "      <td>5.0</td>\n",
       "      <td>1974</td>\n",
       "      <td>1.755104e+07</td>\n",
       "      <td>5.136436e+07</td>\n",
       "    </tr>\n",
       "    <tr>\n",
       "      <th>10659</th>\n",
       "      <td>4255</td>\n",
       "      <td>0.344172</td>\n",
       "      <td>The Party at Kitty and Stud's</td>\n",
       "      <td>71.000000</td>\n",
       "      <td>NaN</td>\n",
       "      <td>02/10/1970</td>\n",
       "      <td>10</td>\n",
       "      <td>3.0</td>\n",
       "      <td>1970</td>\n",
       "      <td>2.808184e+04</td>\n",
       "      <td>5.136436e+07</td>\n",
       "    </tr>\n",
       "  </tbody>\n",
       "</table>\n",
       "</div>"
      ],
      "text/plain": [
       "           id  popularity                                     original_title  \\\n",
       "424    363869    0.244648                                     Belli di papÃ    \n",
       "620    361043    0.129696                                 All Hallows' Eve 2   \n",
       "997    287663    0.330431               Star Wars Rebels: Spark of Rebellion   \n",
       "1712    21634    0.302095                                  Prayers for Bobby   \n",
       "1897    40534    0.020701             Jonas Brothers: The Concert Experience   \n",
       "2370   127717    0.081892                                    Freshman Father   \n",
       "2376   315620    0.068411                      Doctor Who: A Christmas Carol   \n",
       "2853    57892    0.130018                                          Vizontele   \n",
       "3279    54330    0.145331                                      ì•„ê¸°ì™€ ë‚˜   \n",
       "4547   123024    0.520520  London 2012 Olympic Opening Ceremony: Isles of...   \n",
       "4732   139463    0.235911                                      The Scapegoat   \n",
       "4797   369145    0.167501                            Doctor Who: The Snowmen   \n",
       "4890   126909    0.083202                         Cousin Ben Troop Screening   \n",
       "5830   282848    0.248944                 Doctor Who: The Time of the Doctor   \n",
       "5934   200204    0.067433                                       Prada: Candy   \n",
       "6043   190940    0.039080                                     Bombay Talkies   \n",
       "6530   168891    0.092724                                        Saw Rebirth   \n",
       "8234    56804    0.028874                                    Viaggi di nozze   \n",
       "8614    65595    0.273934                         T2 3-D: Battle Across Time   \n",
       "8878    92208    0.038045                    Mom's Got a Date With a Vampire   \n",
       "9307   141859    0.094652                                          Goldeneye   \n",
       "9799    48847    0.175008                                        The Amputee   \n",
       "10659    4255    0.344172                      The Party at Kitty and Stud's   \n",
       "\n",
       "          runtime genres release_date  vote_count  vote_average  release_year  \\\n",
       "424    100.000000    NaN     10/29/15          21           6.1          2015   \n",
       "620     90.000000    NaN   10/06/2015          13           5.0          2015   \n",
       "997     44.000000    NaN   10/03/2014          13           6.8          2014   \n",
       "1712    88.000000    NaN      2/27/09          57           7.4          2009   \n",
       "1897    76.000000    NaN      2/27/09          11           7.0          2009   \n",
       "2370   102.070863    NaN   06/05/2010          12           5.8          2010   \n",
       "2376    62.000000    NaN     12/25/10          11           7.7          2010   \n",
       "2853   110.000000    NaN   02/02/2001          12           7.2          2001   \n",
       "3279    96.000000    NaN      8/13/08          11           6.1          2008   \n",
       "4547   220.000000    NaN      7/27/12          12           8.3          2012   \n",
       "4732   100.000000    NaN   09/09/2012          12           6.2          2012   \n",
       "4797    60.000000    NaN     12/25/12          10           7.8          2012   \n",
       "4890     2.000000    NaN   01/01/2012          14           7.0          2012   \n",
       "5830    60.000000    NaN     12/25/13          26           8.5          2013   \n",
       "5934     3.000000    NaN      3/25/13          27           6.9          2013   \n",
       "6043   127.000000    NaN   05/03/2013          12           5.9          2013   \n",
       "6530     6.000000    NaN     10/24/05          24           5.9          2005   \n",
       "8234   103.000000    NaN     12/15/95          44           6.7          1995   \n",
       "8614    12.000000    NaN   01/01/1996          14           6.7          1996   \n",
       "8878    85.000000    NaN     10/13/00          16           5.4          2000   \n",
       "9307   105.000000    NaN      8/26/89          10           5.3          1989   \n",
       "9799     5.000000    NaN   01/01/1974          11           5.0          1974   \n",
       "10659   71.000000    NaN   02/10/1970          10           3.0          1970   \n",
       "\n",
       "         budget_adj   revenue_adj  \n",
       "424    1.755104e+07  5.136436e+07  \n",
       "620    1.755104e+07  5.136436e+07  \n",
       "997    1.755104e+07  5.136436e+07  \n",
       "1712   1.755104e+07  5.136436e+07  \n",
       "1897   1.755104e+07  5.136436e+07  \n",
       "2370   1.755104e+07  5.136436e+07  \n",
       "2376   1.755104e+07  5.136436e+07  \n",
       "2853   1.755104e+07  5.136436e+07  \n",
       "3279   1.755104e+07  5.136436e+07  \n",
       "4547   1.755104e+07  5.136436e+07  \n",
       "4732   1.755104e+07  5.136436e+07  \n",
       "4797   1.755104e+07  5.136436e+07  \n",
       "4890   1.755104e+07  5.136436e+07  \n",
       "5830   1.755104e+07  5.136436e+07  \n",
       "5934   1.755104e+07  5.136436e+07  \n",
       "6043   1.755104e+07  5.136436e+07  \n",
       "6530   1.755104e+07  5.136436e+07  \n",
       "8234   1.755104e+07  5.136436e+07  \n",
       "8614   1.755104e+07  5.136436e+07  \n",
       "8878   1.755104e+07  5.136436e+07  \n",
       "9307   1.755104e+07  5.136436e+07  \n",
       "9799   1.755104e+07  5.136436e+07  \n",
       "10659  2.808184e+04  5.136436e+07  "
      ]
     },
     "execution_count": 16,
     "metadata": {},
     "output_type": "execute_result"
    }
   ],
   "source": [
    "df[df.genres.isnull()]"
   ]
  },
  {
   "cell_type": "code",
   "execution_count": 17,
   "metadata": {},
   "outputs": [
    {
     "name": "stdout",
     "output_type": "stream",
     "text": [
      "<class 'pandas.core.frame.DataFrame'>\n",
      "Int64Index: 10843 entries, 0 to 10865\n",
      "Data columns (total 11 columns):\n",
      " #   Column          Non-Null Count  Dtype  \n",
      "---  ------          --------------  -----  \n",
      " 0   id              10843 non-null  int64  \n",
      " 1   popularity      10843 non-null  float64\n",
      " 2   original_title  10843 non-null  object \n",
      " 3   runtime         10843 non-null  float64\n",
      " 4   genres          10843 non-null  object \n",
      " 5   release_date    10843 non-null  object \n",
      " 6   vote_count      10843 non-null  int64  \n",
      " 7   vote_average    10843 non-null  float64\n",
      " 8   release_year    10843 non-null  int64  \n",
      " 9   budget_adj      10843 non-null  float64\n",
      " 10  revenue_adj     10843 non-null  float64\n",
      "dtypes: float64(5), int64(3), object(3)\n",
      "memory usage: 1016.5+ KB\n"
     ]
    }
   ],
   "source": [
    "#This function deletes all rows that have a null value\n",
    "df.dropna(inplace=True)\n",
    "df.info()"
   ]
  },
  {
   "cell_type": "code",
   "execution_count": 18,
   "metadata": {},
   "outputs": [
    {
     "data": {
      "text/plain": [
       "id                0\n",
       "popularity        0\n",
       "original_title    0\n",
       "runtime           0\n",
       "genres            0\n",
       "release_date      0\n",
       "vote_count        0\n",
       "vote_average      0\n",
       "release_year      0\n",
       "budget_adj        0\n",
       "revenue_adj       0\n",
       "dtype: int64"
      ]
     },
     "execution_count": 18,
     "metadata": {},
     "output_type": "execute_result"
    }
   ],
   "source": [
    "#count total rows in each column which contain null values\n",
    "df.isna().sum()"
   ]
  },
  {
   "cell_type": "markdown",
   "metadata": {},
   "source": [
    "### Data Cleaning (Cleaning Duplicates)\n",
    ">Find and remove duplicate rows"
   ]
  },
  {
   "cell_type": "code",
   "execution_count": 19,
   "metadata": {},
   "outputs": [
    {
     "data": {
      "text/plain": [
       "1"
      ]
     },
     "execution_count": 19,
     "metadata": {},
     "output_type": "execute_result"
    }
   ],
   "source": [
    "sum(df.duplicated())"
   ]
  },
  {
   "cell_type": "code",
   "execution_count": 20,
   "metadata": {},
   "outputs": [
    {
     "data": {
      "text/plain": [
       "(10842, 11)"
      ]
     },
     "execution_count": 20,
     "metadata": {},
     "output_type": "execute_result"
    }
   ],
   "source": [
    "#After calculating the duplicate row we can drop these row using 'drop_duplicates()' function\n",
    "\n",
    "df.drop_duplicates(keep ='first' ,inplace = True)\n",
    "\n",
    "#afetr removing duplicate value from the dataset\n",
    "\n",
    "df.shape"
   ]
  },
  {
   "cell_type": "markdown",
   "metadata": {},
   "source": [
    "### Data Cleaning ( Changing Datatypes)\n",
    "\n",
    ">Change datatypes of columns to appropriate kinds. Ex. 'release_date' needs to be\n",
    "datetime"
   ]
  },
  {
   "cell_type": "code",
   "execution_count": 21,
   "metadata": {},
   "outputs": [
    {
     "data": {
      "text/plain": [
       "id                         int64\n",
       "popularity               float64\n",
       "original_title            object\n",
       "runtime                  float64\n",
       "genres                    object\n",
       "release_date      datetime64[ns]\n",
       "vote_count                 int64\n",
       "vote_average             float64\n",
       "release_year               int64\n",
       "budget_adj               float64\n",
       "revenue_adj              float64\n",
       "dtype: object"
      ]
     },
     "execution_count": 21,
     "metadata": {},
     "output_type": "execute_result"
    }
   ],
   "source": [
    "df['release_date'] = pd.to_datetime(df['release_date'])\n",
    "df.dtypes"
   ]
  },
  {
   "cell_type": "markdown",
   "metadata": {},
   "source": [
    "<a id='eda'></a>\n",
    "## Exploratory Data Analysis\n",
    ">Now the data is ready to be used to answer questions, study the statistics and build visualization to study relationships between each others\n"
   ]
  },
  {
   "cell_type": "markdown",
   "metadata": {},
   "source": [
    "###  Question 1  (What month is considered best for releasing a film/show?)"
   ]
  },
  {
   "cell_type": "code",
   "execution_count": 22,
   "metadata": {},
   "outputs": [
    {
     "data": {
      "text/html": [
       "<div>\n",
       "<style scoped>\n",
       "    .dataframe tbody tr th:only-of-type {\n",
       "        vertical-align: middle;\n",
       "    }\n",
       "\n",
       "    .dataframe tbody tr th {\n",
       "        vertical-align: top;\n",
       "    }\n",
       "\n",
       "    .dataframe thead th {\n",
       "        text-align: right;\n",
       "    }\n",
       "</style>\n",
       "<table border=\"1\" class=\"dataframe\">\n",
       "  <thead>\n",
       "    <tr style=\"text-align: right;\">\n",
       "      <th></th>\n",
       "      <th>id</th>\n",
       "      <th>popularity</th>\n",
       "      <th>original_title</th>\n",
       "      <th>runtime</th>\n",
       "      <th>genres</th>\n",
       "      <th>release_date</th>\n",
       "      <th>vote_count</th>\n",
       "      <th>vote_average</th>\n",
       "      <th>release_year</th>\n",
       "      <th>budget_adj</th>\n",
       "      <th>revenue_adj</th>\n",
       "      <th>month</th>\n",
       "    </tr>\n",
       "  </thead>\n",
       "  <tbody>\n",
       "    <tr>\n",
       "      <th>0</th>\n",
       "      <td>135397</td>\n",
       "      <td>32.985763</td>\n",
       "      <td>Jurassic World</td>\n",
       "      <td>124.0</td>\n",
       "      <td>Action|Adventure|Science Fiction|Thriller</td>\n",
       "      <td>2015-06-09</td>\n",
       "      <td>5562</td>\n",
       "      <td>6.5</td>\n",
       "      <td>2015</td>\n",
       "      <td>137999939.3</td>\n",
       "      <td>1.392446e+09</td>\n",
       "      <td>6</td>\n",
       "    </tr>\n",
       "    <tr>\n",
       "      <th>1</th>\n",
       "      <td>76341</td>\n",
       "      <td>28.419936</td>\n",
       "      <td>Mad Max: Fury Road</td>\n",
       "      <td>120.0</td>\n",
       "      <td>Action|Adventure|Science Fiction|Thriller</td>\n",
       "      <td>2015-05-13</td>\n",
       "      <td>6185</td>\n",
       "      <td>7.1</td>\n",
       "      <td>2015</td>\n",
       "      <td>137999939.3</td>\n",
       "      <td>3.481613e+08</td>\n",
       "      <td>5</td>\n",
       "    </tr>\n",
       "  </tbody>\n",
       "</table>\n",
       "</div>"
      ],
      "text/plain": [
       "       id  popularity      original_title  runtime  \\\n",
       "0  135397   32.985763      Jurassic World    124.0   \n",
       "1   76341   28.419936  Mad Max: Fury Road    120.0   \n",
       "\n",
       "                                      genres release_date  vote_count  \\\n",
       "0  Action|Adventure|Science Fiction|Thriller   2015-06-09        5562   \n",
       "1  Action|Adventure|Science Fiction|Thriller   2015-05-13        6185   \n",
       "\n",
       "   vote_average  release_year   budget_adj   revenue_adj  month  \n",
       "0           6.5          2015  137999939.3  1.392446e+09      6  \n",
       "1           7.1          2015  137999939.3  3.481613e+08      5  "
      ]
     },
     "execution_count": 22,
     "metadata": {},
     "output_type": "execute_result"
    }
   ],
   "source": [
    "#First, I'm going to create a new column called \"month\"\n",
    "# Then i'll extract the month from release_date.\n",
    "df['month'] = df['release_date'].apply(lambda y: y.month)\n",
    "df.head(2)"
   ]
  },
  {
   "cell_type": "code",
   "execution_count": 23,
   "metadata": {},
   "outputs": [
    {
     "data": {
      "text/plain": [
       "month\n",
       "1     4.895277e+10\n",
       "2     4.214897e+10\n",
       "3     6.380589e+10\n",
       "4     5.487055e+10\n",
       "5     8.418096e+10\n",
       "6     1.020808e+11\n",
       "7     7.982522e+10\n",
       "8     5.747161e+10\n",
       "9     6.799156e+10\n",
       "10    7.398933e+10\n",
       "11    8.171477e+10\n",
       "12    1.089184e+11\n",
       "Name: revenue_adj, dtype: float64"
      ]
     },
     "execution_count": 23,
     "metadata": {},
     "output_type": "execute_result"
    }
   ],
   "source": [
    "# Group by month and sum the revenues.\n",
    "mo_revenue_adj = df.groupby('month')['revenue_adj'].sum()\n",
    "mo_revenue_adj"
   ]
  },
  {
   "cell_type": "code",
   "execution_count": 24,
   "metadata": {},
   "outputs": [
    {
     "data": {
      "image/png": "[encoded data removed]",
      "text/plain": [
       "<Figure size 432x288 with 1 Axes>"
      ]
     },
     "metadata": {
      "needs_background": "light"
     },
     "output_type": "display_data"
    }
   ],
   "source": [
    "# Now plot these in a barh chart.\n",
    "plt.barh ([1,2,3,4,5,6,7,8,9,10,11,12], mo_revenue_adj, tick_label = ['Jan','Fep','Mar','Apr','May','Jun','Jul','Aug','Sep','Oct','Nov','Dec'])\n",
    "plt.title('Month Released vs. Revenue')\n",
    "plt.ylabel('Month')\n",
    "plt.xlabel( 'Revenue Adjusted');\n",
    "\n"
   ]
  },
  {
   "cell_type": "markdown",
   "metadata": {},
   "source": [
    ">From this chart, we can see that 6(June) and 12(December) have the highest revenue for\n",
    "movie releases."
   ]
  },
  {
   "cell_type": "markdown",
   "metadata": {},
   "source": [
    "### Question 2  ( Which year has the highest release of movies?)"
   ]
  },
  {
   "cell_type": "code",
   "execution_count": 25,
   "metadata": {},
   "outputs": [
    {
     "name": "stdout",
     "output_type": "stream",
     "text": [
      "release_year\n",
      "2009    531\n",
      "2010    487\n",
      "2011    540\n",
      "2012    584\n",
      "2013    656\n",
      "2014    699\n",
      "2015    627\n",
      "Name: id, dtype: int64\n"
     ]
    },
    {
     "data": {
      "text/plain": [
       "Text(0, 0.5, 'Number Of Movies')"
      ]
     },
     "execution_count": 25,
     "metadata": {},
     "output_type": "execute_result"
    },
    {
     "data": {
      "image/png": "[encoded data removed]",
      "text/plain": [
       "<Figure size 432x288 with 1 Axes>"
      ]
     },
     "metadata": {
      "needs_background": "light"
     },
     "output_type": "display_data"
    }
   ],
   "source": [
    "# make group for each year and count the number of movies in each year \n",
    "d=df.groupby('release_year').count()['id']\n",
    "print(d.tail(7))\n",
    "\n",
    "#make group of the data according to their release year and count the total number of movies in each year and pot.\n",
    "df.groupby('release_year').count()['id'].plot(xticks=np.arange(1960,2016,5))\n",
    "\n",
    "#set the labels\n",
    "plt.title(\"Year Vs Number Of Movies\")\n",
    "plt.xlabel('Release year')\n",
    "plt.ylabel('Number Of Movies')\n",
    "\n",
    "\n",
    "\n",
    "\n"
   ]
  },
  {
   "cell_type": "markdown",
   "metadata": {},
   "source": [
    "\n",
    ">We can infer from the plot that  2014 is the highest year for release of movies(699),followed by year 2013(656) and after  2013 comes in 2015 (627).\n"
   ]
  },
  {
   "cell_type": "markdown",
   "metadata": {},
   "source": [
    "### Question 3  (Which length movies most liked by the audiences according to their popularity?)"
   ]
  },
  {
   "cell_type": "code",
   "execution_count": 26,
   "metadata": {},
   "outputs": [
    {
     "data": {
      "text/plain": [
       "Text(0, 0.5, 'Average Popularity')"
      ]
     },
     "execution_count": 26,
     "metadata": {},
     "output_type": "execute_result"
    },
    {
     "data": {
      "image/png": "[encoded data removed]",
      "text/plain": [
       "<Figure size 792x288 with 1 Axes>"
      ]
     },
     "metadata": {
      "needs_background": "light"
     },
     "output_type": "display_data"
    }
   ],
   "source": [
    "\n",
    "#make the group of the data according to their runtime and find the mean popularity related to this and plot.\n",
    "df.groupby('runtime')['popularity'].mean().plot( figsize = (11,4),xticks=np.arange(0,1000,50))\n",
    "\n",
    "#make a plot using their popularity and find which length movies are most popular.\n",
    "#setup the title and the labels of the plot.\n",
    "\n",
    "plt.title(\"Runtime Vs Popularity\",fontsize = 13)\n",
    "plt.xlabel('Runtime')\n",
    "plt.ylabel('Average Popularity')\n",
    "\n",
    "\n"
   ]
  },
  {
   "cell_type": "markdown",
   "metadata": {},
   "source": [
    ">According to the plot we can say that movies in the range of 100-200 runtime are more popular than other runtime movies. Because it is boring to see the long duration movies.\n",
    "\n"
   ]
  },
  {
   "cell_type": "markdown",
   "metadata": {},
   "source": [
    "### Question 4  (Which Genre Has The Highest Release Of Movies? )"
   ]
  },
  {
   "cell_type": "code",
   "execution_count": 27,
   "metadata": {
    "scrolled": true
   },
   "outputs": [
    {
     "data": {
      "image/png": "[encoded data removed]",
      "text/plain": [
       "<Figure size 792x288 with 1 Axes>"
      ]
     },
     "metadata": {
      "needs_background": "light"
     },
     "output_type": "display_data"
    }
   ],
   "source": [
    "#make a function will will split the string and return the count of each genre.\n",
    "def count_gen(y):\n",
    "    #concatenate all the rows of the genres.\n",
    "    data_plot = df[y].str.cat(sep = '|')\n",
    "    DATA = pd.Series(data_plot.split('|'))\n",
    "    #conts each of the genre and return.\n",
    "    info = DATA.value_counts(ascending=False)\n",
    "    return info\n",
    "\n",
    "#call the function for counting the movies of each genre.\n",
    "total_GenreMovies = count_gen('genres')\n",
    "#plot a 'bar' plot using plot function for 'genre vs number of movies'.\n",
    "total_GenreMovies.plot( figsize = (11,4),kind= 'bar',colormap='plasma')\n",
    "\n",
    "# plot.\n",
    "plt.title(\"Genre With Highest Release\",fontsize=13)\n",
    "plt.xlabel('Genres')\n",
    "plt.ylabel('Number Of Movies')\n",
    "sns.set_style(\"darkgrid\")\n"
   ]
  },
  {
   "cell_type": "markdown",
   "metadata": {},
   "source": [
    ">According to the plot Drama genre has the highest release of movies followed by Comedy and Thriller."
   ]
  },
  {
   "cell_type": "markdown",
   "metadata": {},
   "source": [
    "<a id='conclusions'></a>\n",
    "## Conclusions\n",
    "\n",
    ">    I analyzed the data set (TMDB) collected from 1960 to 2015 by putting some questions to some conclusion. After (Data Wrangling) the data was cleaned where I deleted columns that I don't need in the analysis and removed any of the Duplicate value, the NULL value and the values 0 and also corrected the types of erroneous data to have more accurate data and results, and i also added some columns such as month\".\n",
    "We can summarize the results of this analysis in the following items:\n",
    "\n",
    ">• The best months for the release of movies are December, John and May.\n",
    "\n",
    ">• The year with the highest release of movies 2014 and then followed by 2013.\n",
    "\n",
    ">• Movie runtime that the audience likes from 100-200 minutes because it's boring to see long-term movies.\n",
    "\n",
    ">• Genres that have the highest release of movies: the first genre is drama, the second is comedy and the third is thriller.\n",
    "\n",
    "## Limitiations\n",
    "\n",
    ">•  Although we successfully predicted the above properties on TMDb movie dataset, there are many Rows with NaN values have been dropped, so a lot of key data may have been lost in this process.\n",
    "\n",
    ">• A significant percentage of movies with zero value for budget_adj or revenue_adj from The dataset,the zero value greatly impact the results. Where I replaced zero values with mean.\n"
   ]
  }
 ],
 "metadata": {
  "kernelspec": {
   "display_name": "Python 3",
   "language": "python",
   "name": "python3"
  },
  "language_info": {
   "codemirror_mode": {
    "name": "ipython",
    "version": 3
   },
   "file_extension": ".py",
   "mimetype": "text/x-python",
   "name": "python",
   "nbconvert_exporter": "python",
   "pygments_lexer": "ipython3",
   "version": "3.7.6"
  }
 },
 "nbformat": 4,
 "nbformat_minor": 2
}
